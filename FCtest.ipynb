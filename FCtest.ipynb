{
 "cells": [
  {
   "cell_type": "code",
   "execution_count": 31,
   "metadata": {},
   "outputs": [
    {
     "name": "stdout",
     "output_type": "stream",
     "text": [
      "Relative error (<1e-6 will be fine):  1.80541594356e-07\n"
     ]
    }
   ],
   "source": [
    "import numpy as np\n",
    "from layers import FCLayer\n",
    "from utils.tools import rel_error\n",
    "\n",
    "import keras\n",
    "from keras import layers\n",
    "from keras import models\n",
    "from keras import optimizers\n",
    "from keras import backend as K\n",
    "\n",
    "import warnings\n",
    "warnings.filterwarnings('ignore')\n",
    "\n",
    "inputs = np.random.uniform(size=(10, 20))\n",
    "\n",
    "layer = FCLayer(in_features=inputs.shape[1], out_features=100)\n",
    "out = layer.forward(inputs)\n",
    "\n",
    "keras_model = keras.Sequential()\n",
    "keras_layer = layers.Dense(100, input_shape=inputs.shape[1:], use_bias=True, kernel_initializer='random_normal', bias_initializer='zeros')\n",
    "# print (len(keras_layer.get_weights()))\n",
    "keras_model.add(keras_layer)\n",
    "sgd = optimizers.SGD(lr=0.01)\n",
    "keras_model.compile(loss='mean_squared_error', optimizer='sgd')\n",
    "keras_layer.set_weights([layer.weights, layer.bias])\n",
    "keras_out = keras_model.predict(inputs, batch_size=inputs.shape[0])\n",
    "print('Relative error (<1e-6 will be fine): ', rel_error(out, keras_out))"
   ]
  },
  {
   "cell_type": "code",
   "execution_count": 1,
   "metadata": {},
   "outputs": [
    {
     "name": "stderr",
     "output_type": "stream",
     "text": [
      "/Users/aarontom/anaconda3/lib/python3.6/site-packages/h5py/__init__.py:34: FutureWarning: Conversion of the second argument of issubdtype from `float` to `np.floating` is deprecated. In future, it will be treated as `np.float64 == np.dtype(float).type`.\n",
      "  from ._conv import register_converters as _register_converters\n",
      "Using TensorFlow backend.\n"
     ]
    },
    {
     "name": "stdout",
     "output_type": "stream",
     "text": [
      "Relative error (<1e-6 will be fine):  3.89271443489328e-07\n"
     ]
    }
   ],
   "source": [
    "import numpy as np\n",
    "from layers import Convolution\n",
    "from utils.tools import rel_error\n",
    "\n",
    "import keras\n",
    "from keras import layers\n",
    "from keras import models\n",
    "from keras import optimizers\n",
    "from keras import backend as K\n",
    "\n",
    "import warnings\n",
    "warnings.filterwarnings('ignore')\n",
    "\n",
    "inputs = np.random.uniform(size=(10, 3, 30, 30))\n",
    "params = { 'kernel_h': 4,\n",
    "          'kernel_w': 4,\n",
    "          'pad': 0,\n",
    "          'stride': 2,\n",
    "          'in_channel': inputs.shape[1],\n",
    "          'out_channel': 64,\n",
    "}\n",
    "layer = Convolution(params)\n",
    "out = layer.forward(inputs)\n",
    "\n",
    "keras_model = keras.Sequential()\n",
    "keras_layer = layers.Conv2D(filters=params['out_channel'],\n",
    "                            kernel_size=(params['kernel_h'], params['kernel_w']),\n",
    "                            strides=(params['stride'], params['stride']),\n",
    "                            padding='valid',\n",
    "                            data_format='channels_first',\n",
    "                            input_shape=inputs.shape[1:])\n",
    "keras_model.add(keras_layer)\n",
    "sgd = optimizers.SGD(lr=0.01)\n",
    "keras_model.compile(loss='mean_squared_error', optimizer='sgd')\n",
    "weights = np.transpose(layer.weights, (2, 3, 1, 0))\n",
    "keras_layer.set_weights([weights, layer.bias])\n",
    "keras_out = keras_model.predict(inputs, batch_size=inputs.shape[0])\n",
    "print('Relative error (<1e-6 will be fine): ', rel_error(out, keras_out))"
   ]
  },
  {
   "cell_type": "code",
   "execution_count": null,
   "metadata": {
    "collapsed": true
   },
   "outputs": [],
   "source": []
  }
 ],
 "metadata": {
  "kernelspec": {
   "display_name": "Python 3",
   "language": "python",
   "name": "python3"
  },
  "language_info": {
   "codemirror_mode": {
    "name": "ipython",
    "version": 3
   },
   "file_extension": ".py",
   "mimetype": "text/x-python",
   "name": "python",
   "nbconvert_exporter": "python",
   "pygments_lexer": "ipython3",
   "version": "3.6.3"
  }
 },
 "nbformat": 4,
 "nbformat_minor": 2
}
